{
  "cells": [
    {
      "cell_type": "code",
      "execution_count": null,
      "metadata": {
        "colab": {
          "base_uri": "https://localhost:8080/"
        },
        "id": "wz9RXcQmsTxC",
        "outputId": "3b21c701-268d-44aa-a73f-fcd47e20c3f6"
      },
      "outputs": [
        {
          "name": "stdout",
          "output_type": "stream",
          "text": [
            "Drive already mounted at /content/drive; to attempt to forcibly remount, call drive.mount(\"/content/drive\", force_remount=True).\n"
          ]
        }
      ],
      "source": [
        "from google.colab import drive\n",
        "drive.mount('/content/drive')"
      ]
    },
    {
      "cell_type": "code",
      "execution_count": null,
      "metadata": {
        "colab": {
          "base_uri": "https://localhost:8080/",
          "height": 321
        },
        "collapsed": true,
        "id": "_Ufw15BKuu4q",
        "outputId": "5dab83f3-2a5c-4efb-9b11-aa11807eaa82"
      },
      "outputs": [],
      "source": [
        "import shutil\n",
        "\n",
        "# Source folder path in Google Drive\n",
        "source_folder = '/content/drive/My Drive/homer_bart'\n",
        "\n",
        "# Destination folder path in Colab environment\n",
        "destination_folder = '/content/homer_bert'\n",
        "\n",
        "# Copy the folder\n",
        "shutil.copytree(source_folder, destination_folder)\n"
      ]
    },
    {
      "cell_type": "code",
      "execution_count": null,
      "metadata": {
        "collapsed": true,
        "id": "7zkK3Yl9vgtx"
      },
      "outputs": [],
      "source": [
        "!pip install numpy Pillow scikit-learn tensorflow"
      ]
    },
    {
      "cell_type": "code",
      "execution_count": null,
      "metadata": {
        "colab": {
          "base_uri": "https://localhost:8080/"
        },
        "id": "3P-efyyArqDU",
        "outputId": "33071bdd-b19d-4bc8-8828-2b774f532890"
      },
      "outputs": [
        {
          "name": "stdout",
          "output_type": "stream",
          "text": [
            "Loaded 109 images from /content/homer_bert/Homer\n",
            "Loaded 269 images from /content/homer_bert/Bart\n"
          ]
        }
      ],
      "source": [
        "import os\n",
        "import glob\n",
        "import numpy as np\n",
        "from PIL import Image\n",
        "from sklearn.model_selection import train_test_split\n",
        "import tensorflow as tf\n",
        "from tensorflow.keras.models import Sequential\n",
        "from tensorflow.keras.layers import Dense\n",
        "from tensorflow.keras.optimizers import Adam\n",
        "\n",
        "def load_images_from_folder(folder):\n",
        "    images = []\n",
        "    labels = []\n",
        "\n",
        "    if not os.path.exists(folder):\n",
        "        print(f\"Error: Folder '{folder}' not found.\")\n",
        "        return np.array(images), np.array(labels)\n",
        "    for label_dir in ['Homer', 'Bart']:\n",
        "        label_path = os.path.join(folder, label_dir)\n",
        "\n",
        "        if not os.path.exists(label_path):\n",
        "            print(f\"Warning: Label directory '{label_path}' not found.\")\n",
        "            continue\n",
        "        label = 1 if label_dir == 'bart' else 0\n",
        "        for filename in glob.glob(os.path.join(label_path, '*.bmp')):\n",
        "            img = Image.open(filename).convert('L')\n",
        "            img = img.resize((64, 64))\n",
        "            img = np.array(img)\n",
        "            images.append(img)\n",
        "            labels.append(label)\n",
        "        print(f\"Loaded {len(images)} images from {label_path}\")\n",
        "    return np.array(images), np.array(labels)\n",
        "\n",
        "images, labels = load_images_from_folder('/content/homer_bert')\n",
        "\n",
        "images = images / 255.0\n",
        "\n"
      ]
    },
    {
      "cell_type": "code",
      "execution_count": null,
      "metadata": {
        "colab": {
          "base_uri": "https://localhost:8080/"
        },
        "id": "xhQopEn2wu4R",
        "outputId": "3075c386-23b0-44d4-e31b-d5813bee64ce"
      },
      "outputs": [
        {
          "name": "stdout",
          "output_type": "stream",
          "text": [
            "Epoch 1/20\n",
            "7/7 [==============================] - 3s 80ms/step - loss: 0.0340 - accuracy: 1.0000 - val_loss: 2.2646e-20 - val_accuracy: 1.0000\n",
            "Epoch 2/20\n",
            "7/7 [==============================] - 0s 28ms/step - loss: 3.3622e-18 - accuracy: 1.0000 - val_loss: 2.5162e-29 - val_accuracy: 1.0000\n",
            "Epoch 3/20\n",
            "7/7 [==============================] - 0s 18ms/step - loss: 2.4156e-24 - accuracy: 1.0000 - val_loss: 3.0783e-34 - val_accuracy: 1.0000\n",
            "Epoch 4/20\n",
            "7/7 [==============================] - 0s 22ms/step - loss: 3.7209e-27 - accuracy: 1.0000 - val_loss: 6.4018e-37 - val_accuracy: 1.0000\n",
            "Epoch 5/20\n",
            "7/7 [==============================] - 0s 30ms/step - loss: 2.8848e-29 - accuracy: 1.0000 - val_loss: 2.3311e-38 - val_accuracy: 1.0000\n",
            "Epoch 6/20\n",
            "7/7 [==============================] - 0s 21ms/step - loss: 3.5076e-30 - accuracy: 1.0000 - val_loss: 0.0000e+00 - val_accuracy: 1.0000\n",
            "Epoch 7/20\n",
            "7/7 [==============================] - 0s 28ms/step - loss: 1.0326e-30 - accuracy: 1.0000 - val_loss: 0.0000e+00 - val_accuracy: 1.0000\n",
            "Epoch 8/20\n",
            "7/7 [==============================] - 0s 28ms/step - loss: 6.1334e-31 - accuracy: 1.0000 - val_loss: 0.0000e+00 - val_accuracy: 1.0000\n",
            "Epoch 9/20\n",
            "7/7 [==============================] - 0s 26ms/step - loss: 4.8361e-31 - accuracy: 1.0000 - val_loss: 0.0000e+00 - val_accuracy: 1.0000\n",
            "Epoch 10/20\n",
            "7/7 [==============================] - 0s 20ms/step - loss: 4.0528e-31 - accuracy: 1.0000 - val_loss: 0.0000e+00 - val_accuracy: 1.0000\n",
            "Epoch 11/20\n",
            "7/7 [==============================] - 0s 29ms/step - loss: 3.7773e-31 - accuracy: 1.0000 - val_loss: 0.0000e+00 - val_accuracy: 1.0000\n",
            "Epoch 12/20\n",
            "7/7 [==============================] - 0s 22ms/step - loss: 3.6253e-31 - accuracy: 1.0000 - val_loss: 0.0000e+00 - val_accuracy: 1.0000\n",
            "Epoch 13/20\n",
            "7/7 [==============================] - 0s 18ms/step - loss: 3.5512e-31 - accuracy: 1.0000 - val_loss: 0.0000e+00 - val_accuracy: 1.0000\n",
            "Epoch 14/20\n",
            "7/7 [==============================] - 0s 18ms/step - loss: 3.5272e-31 - accuracy: 1.0000 - val_loss: 0.0000e+00 - val_accuracy: 1.0000\n",
            "Epoch 15/20\n",
            "7/7 [==============================] - 0s 17ms/step - loss: 3.5054e-31 - accuracy: 1.0000 - val_loss: 0.0000e+00 - val_accuracy: 1.0000\n",
            "Epoch 16/20\n",
            "7/7 [==============================] - 0s 25ms/step - loss: 3.4995e-31 - accuracy: 1.0000 - val_loss: 0.0000e+00 - val_accuracy: 1.0000\n",
            "Epoch 17/20\n",
            "7/7 [==============================] - 0s 18ms/step - loss: 3.4967e-31 - accuracy: 1.0000 - val_loss: 0.0000e+00 - val_accuracy: 1.0000\n",
            "Epoch 18/20\n",
            "7/7 [==============================] - 0s 18ms/step - loss: 3.4955e-31 - accuracy: 1.0000 - val_loss: 0.0000e+00 - val_accuracy: 1.0000\n",
            "Epoch 19/20\n",
            "7/7 [==============================] - 0s 18ms/step - loss: 3.4946e-31 - accuracy: 1.0000 - val_loss: 0.0000e+00 - val_accuracy: 1.0000\n",
            "Epoch 20/20\n",
            "7/7 [==============================] - 0s 22ms/step - loss: 3.4943e-31 - accuracy: 1.0000 - val_loss: 0.0000e+00 - val_accuracy: 1.0000\n",
            "Epoch 1/20\n",
            "7/7 [==============================] - 0s 36ms/step - loss: 3.4942e-31 - accuracy: 1.0000 - val_loss: 0.0000e+00 - val_accuracy: 1.0000\n",
            "Epoch 2/20\n",
            "7/7 [==============================] - 0s 12ms/step - loss: 3.4942e-31 - accuracy: 1.0000 - val_loss: 0.0000e+00 - val_accuracy: 1.0000\n",
            "Epoch 3/20\n",
            "7/7 [==============================] - 0s 10ms/step - loss: 3.4942e-31 - accuracy: 1.0000 - val_loss: 0.0000e+00 - val_accuracy: 1.0000\n",
            "Epoch 4/20\n",
            "7/7 [==============================] - 0s 11ms/step - loss: 3.4942e-31 - accuracy: 1.0000 - val_loss: 0.0000e+00 - val_accuracy: 1.0000\n",
            "Epoch 5/20\n",
            "7/7 [==============================] - 0s 13ms/step - loss: 3.4942e-31 - accuracy: 1.0000 - val_loss: 0.0000e+00 - val_accuracy: 1.0000\n",
            "Epoch 6/20\n",
            "7/7 [==============================] - 0s 12ms/step - loss: 3.4942e-31 - accuracy: 1.0000 - val_loss: 0.0000e+00 - val_accuracy: 1.0000\n",
            "Epoch 7/20\n",
            "7/7 [==============================] - 0s 15ms/step - loss: 3.4942e-31 - accuracy: 1.0000 - val_loss: 0.0000e+00 - val_accuracy: 1.0000\n",
            "Epoch 8/20\n",
            "7/7 [==============================] - 0s 10ms/step - loss: 3.4942e-31 - accuracy: 1.0000 - val_loss: 0.0000e+00 - val_accuracy: 1.0000\n",
            "Epoch 9/20\n",
            "7/7 [==============================] - 0s 12ms/step - loss: 3.4942e-31 - accuracy: 1.0000 - val_loss: 0.0000e+00 - val_accuracy: 1.0000\n",
            "Epoch 10/20\n",
            "7/7 [==============================] - 0s 9ms/step - loss: 3.4942e-31 - accuracy: 1.0000 - val_loss: 0.0000e+00 - val_accuracy: 1.0000\n",
            "Epoch 11/20\n",
            "7/7 [==============================] - 0s 10ms/step - loss: 3.4942e-31 - accuracy: 1.0000 - val_loss: 0.0000e+00 - val_accuracy: 1.0000\n",
            "Epoch 12/20\n",
            "7/7 [==============================] - 0s 10ms/step - loss: 3.4942e-31 - accuracy: 1.0000 - val_loss: 0.0000e+00 - val_accuracy: 1.0000\n",
            "Epoch 13/20\n",
            "7/7 [==============================] - 0s 12ms/step - loss: 3.4942e-31 - accuracy: 1.0000 - val_loss: 0.0000e+00 - val_accuracy: 1.0000\n",
            "Epoch 14/20\n",
            "7/7 [==============================] - 0s 9ms/step - loss: 3.4942e-31 - accuracy: 1.0000 - val_loss: 0.0000e+00 - val_accuracy: 1.0000\n",
            "Epoch 15/20\n",
            "7/7 [==============================] - 0s 12ms/step - loss: 3.4942e-31 - accuracy: 1.0000 - val_loss: 0.0000e+00 - val_accuracy: 1.0000\n",
            "Epoch 16/20\n",
            "7/7 [==============================] - 0s 12ms/step - loss: 3.4942e-31 - accuracy: 1.0000 - val_loss: 0.0000e+00 - val_accuracy: 1.0000\n",
            "Epoch 17/20\n",
            "7/7 [==============================] - 0s 12ms/step - loss: 3.4942e-31 - accuracy: 1.0000 - val_loss: 0.0000e+00 - val_accuracy: 1.0000\n",
            "Epoch 18/20\n",
            "7/7 [==============================] - 0s 9ms/step - loss: 3.4942e-31 - accuracy: 1.0000 - val_loss: 0.0000e+00 - val_accuracy: 1.0000\n",
            "Epoch 19/20\n",
            "7/7 [==============================] - 0s 13ms/step - loss: 3.4942e-31 - accuracy: 1.0000 - val_loss: 0.0000e+00 - val_accuracy: 1.0000\n",
            "Epoch 20/20\n",
            "7/7 [==============================] - 0s 12ms/step - loss: 3.4942e-31 - accuracy: 1.0000 - val_loss: 0.0000e+00 - val_accuracy: 1.0000\n",
            "1/1 [==============================] - 0s 29ms/step - loss: 1.9878e-14 - accuracy: 1.0000\n",
            "Test Accuracy: 1.0000\n"
          ]
        }
      ],
      "source": [
        "\n",
        "X_train, X_test, y_train, y_test = train_test_split(images, labels, test_size=0.1, random_state=42)\n",
        "\n",
        "X_train = X_train.reshape(-1, 64*64)\n",
        "X_test = X_test.reshape(-1, 64*64)\n",
        "\n",
        "model = Sequential([\n",
        "    Dense(128, activation='relu', input_shape=(64*64,)),\n",
        "    Dense(64, activation='relu'),\n",
        "    Dense(32, activation='relu'),\n",
        "    Dense(1, activation='sigmoid')\n",
        "])\n",
        "\n",
        "model.compile(optimizer=Adam(), loss='binary_crossentropy', metrics=['accuracy'])\n",
        "model.fit(X_train, y_train, epochs=20, batch_size=32, validation_split=0.1)\n",
        "history = model.fit(X_train, y_train, epochs=20, batch_size=32, validation_split=0.1)\n",
        "\n",
        "test_loss, test_accuracy = model.evaluate(X_test, y_test)\n",
        "\n",
        "print(f'Test Accuracy: {test_accuracy:.4f}')\n"
      ]
    }
  ],
  "metadata": {
    "colab": {
      "provenance": []
    },
    "kernelspec": {
      "display_name": "Python 3",
      "name": "python3"
    },
    "language_info": {
      "name": "python"
    }
  },
  "nbformat": 4,
  "nbformat_minor": 0
}
